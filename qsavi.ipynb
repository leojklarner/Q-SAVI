{
  "nbformat": 4,
  "nbformat_minor": 0,
  "metadata": {
    "colab": {
      "provenance": [],
      "gpuType": "T4",
      "authorship_tag": "ABX9TyM3fWJCLp4OB2Y+qP5PxxTz",
      "include_colab_link": true
    },
    "kernelspec": {
      "name": "python3",
      "display_name": "Python 3"
    },
    "language_info": {
      "name": "python"
    },
    "accelerator": "GPU"
  },
  "cells": [
    {
      "cell_type": "markdown",
      "metadata": {
        "id": "view-in-github",
        "colab_type": "text"
      },
      "source": [
        "<a href=\"https://colab.research.google.com/github/leojklarner/Q-SAVI/blob/staging/qsavi.ipynb\" target=\"_parent\"><img src=\"https://colab.research.google.com/assets/colab-badge.svg\" alt=\"Open In Colab\"/></a>"
      ]
    },
    {
      "cell_type": "markdown",
      "source": [
        "# Running Q-SAVI on Colab\n",
        "\n",
        "The following notebook demonstrates how to train and evaluate Q-SAVI models and reproduces the experimental results from the paper.\n",
        "Specifically, it:\n",
        "\n",
        "1.   clones the Q-SAVI source code from GitHub\n",
        "2.   downloads a pre-processed subsample of the ZINC database (featurized as ECFPs) to use as a context point distribution\n",
        "3. installs any dependencies not available in the default Colab environment  \n",
        "4. specifies the hyperparameter combinations with the lowest validation NLL, identified by running the qsavi_hyperparam_search.py script\n",
        "5. trains 10 models for each hyperparameter combination and split using different random seeds\n",
        "\n"
      ],
      "metadata": {
        "id": "Fa4jGnccCGl3"
      }
    },
    {
      "cell_type": "markdown",
      "source": [
        "## Setup"
      ],
      "metadata": {
        "id": "Vtpf6wdFD1Tc"
      }
    },
    {
      "cell_type": "code",
      "execution_count": null,
      "metadata": {
        "colab": {
          "base_uri": "https://localhost:8080/"
        },
        "id": "KFJO_D6GLiN_",
        "outputId": "598e7d07-bd49-4cea-8f1b-8cb1bb20b657"
      },
      "outputs": [
        {
          "output_type": "stream",
          "name": "stdout",
          "text": [
            "Cloning into 'Q-SAVI'...\n",
            "remote: Enumerating objects: 60, done.\u001b[K\n",
            "remote: Counting objects: 100% (20/20), done.\u001b[K\n",
            "remote: Compressing objects: 100% (18/18), done.\u001b[K\n",
            "remote: Total 60 (delta 6), reused 10 (delta 2), pack-reused 40\u001b[K\n",
            "Unpacking objects: 100% (60/60), 162.72 MiB | 8.73 MiB/s, done.\n",
            "Updating files: 100% (22/22), done.\n",
            "--2023-07-11 17:24:14--  https://www.dropbox.com/s/xsbz8wyewupnpe8/zinc_context_points_ecfp.tar.gz?dl=0\n",
            "Resolving www.dropbox.com (www.dropbox.com)... 162.125.5.18, 2620:100:6018:18::a27d:312\n",
            "Connecting to www.dropbox.com (www.dropbox.com)|162.125.5.18|:443... connected.\n",
            "HTTP request sent, awaiting response... 302 Found\n",
            "Location: /s/raw/xsbz8wyewupnpe8/zinc_context_points_ecfp.tar.gz [following]\n",
            "--2023-07-11 17:24:15--  https://www.dropbox.com/s/raw/xsbz8wyewupnpe8/zinc_context_points_ecfp.tar.gz\n",
            "Reusing existing connection to www.dropbox.com:443.\n",
            "HTTP request sent, awaiting response... 302 Found\n",
            "Location: https://uc7f77bcc89ce784a1e7cac1145e.dl.dropboxusercontent.com/cd/0/inline/B_qPgxEo3b0SvPTI41qb2eOnFuAIbSj8OtrqYrALhC89UIQAuLv6Jk9oB84pZF5kbFk8kULbt7BtDqdgIbGuBbBPyvuWqYwTuEX16qNrVcfsSFojt4pQRxeHFqoT8AK820grslQwydgyf506dGkROx-WgU1Qx2aJ1FxD2zd121LJQg/file# [following]\n",
            "--2023-07-11 17:24:15--  https://uc7f77bcc89ce784a1e7cac1145e.dl.dropboxusercontent.com/cd/0/inline/B_qPgxEo3b0SvPTI41qb2eOnFuAIbSj8OtrqYrALhC89UIQAuLv6Jk9oB84pZF5kbFk8kULbt7BtDqdgIbGuBbBPyvuWqYwTuEX16qNrVcfsSFojt4pQRxeHFqoT8AK820grslQwydgyf506dGkROx-WgU1Qx2aJ1FxD2zd121LJQg/file\n",
            "Resolving uc7f77bcc89ce784a1e7cac1145e.dl.dropboxusercontent.com (uc7f77bcc89ce784a1e7cac1145e.dl.dropboxusercontent.com)... 162.125.3.15, 2620:100:6018:15::a27d:30f\n",
            "Connecting to uc7f77bcc89ce784a1e7cac1145e.dl.dropboxusercontent.com (uc7f77bcc89ce784a1e7cac1145e.dl.dropboxusercontent.com)|162.125.3.15|:443... connected.\n",
            "HTTP request sent, awaiting response... 302 Found\n",
            "Location: /cd/0/inline2/B_okhVjhufXzaztI9w2AWK2eZ5Lhlr9viTwmN88UNj1xVJVQ6AmVGJfJCVoHOjTVQxknYQKcFfNIsfndM4l4P3URtFZpWOPQiS0Fz9IvsUb5UtTIlDoB-VGoQRlr30qi9ai-QbvQUiQmtaQFQs1Z-0X_ChhtdxZDdpXrONMe0LwcDPTCLOdJGziSFSorCfDSz9fvKL03R7z45IWcth-QKrGkH1udUg3TjKwrVDIPgFxnpAaYDWAcAjOIRBUuddLoM1Rf_3tn1HLjtIKkW2TMpz74BM1OR3HLpu-9IQJMgeY3A5DsqHvMoYuDii6jpk_Gr1MMIiUfYsVWgwAeOp03jiNIqm5i_sKEdbGQdgmsCBbNkGaBbme4RRUDet-dPBu2dUgR8aJqkb4qh5LjN_5LZyzBEEQKjifDOgs2M9xRBfJJ6Q/file [following]\n",
            "--2023-07-11 17:24:15--  https://uc7f77bcc89ce784a1e7cac1145e.dl.dropboxusercontent.com/cd/0/inline2/B_okhVjhufXzaztI9w2AWK2eZ5Lhlr9viTwmN88UNj1xVJVQ6AmVGJfJCVoHOjTVQxknYQKcFfNIsfndM4l4P3URtFZpWOPQiS0Fz9IvsUb5UtTIlDoB-VGoQRlr30qi9ai-QbvQUiQmtaQFQs1Z-0X_ChhtdxZDdpXrONMe0LwcDPTCLOdJGziSFSorCfDSz9fvKL03R7z45IWcth-QKrGkH1udUg3TjKwrVDIPgFxnpAaYDWAcAjOIRBUuddLoM1Rf_3tn1HLjtIKkW2TMpz74BM1OR3HLpu-9IQJMgeY3A5DsqHvMoYuDii6jpk_Gr1MMIiUfYsVWgwAeOp03jiNIqm5i_sKEdbGQdgmsCBbNkGaBbme4RRUDet-dPBu2dUgR8aJqkb4qh5LjN_5LZyzBEEQKjifDOgs2M9xRBfJJ6Q/file\n",
            "Reusing existing connection to uc7f77bcc89ce784a1e7cac1145e.dl.dropboxusercontent.com:443.\n",
            "HTTP request sent, awaiting response... 200 OK\n",
            "Length: 139575807 (133M) [application/octet-stream]\n",
            "Saving to: ‘/content/Q-SAVI/data/datasets/zinc/zinc_context_points_ecfp.tar.gz?dl=0’\n",
            "\n",
            "zinc_context_points 100%[===================>] 133.11M   107MB/s    in 1.2s    \n",
            "\n",
            "2023-07-11 17:24:17 (107 MB/s) - ‘/content/Q-SAVI/data/datasets/zinc/zinc_context_points_ecfp.tar.gz?dl=0’ saved [139575807/139575807]\n",
            "\n"
          ]
        }
      ],
      "source": [
        "# download Q-SAVI source code from GitHub Repo\n",
        "!git clone -b staging https://github.com/leojklarner/Q-SAVI.git\n",
        "\n",
        "# download and extract pre-processed context point files\n",
        "!mkdir /content/Q-SAVI/data/datasets/zinc\n",
        "!wget https://www.dropbox.com/s/xsbz8wyewupnpe8/zinc_context_points_ecfp.tar.gz?dl=0 -P /content/Q-SAVI/data/datasets/zinc\n",
        "!tar -xf /content/Q-SAVI/data/datasets/zinc/zinc_context_points_ecfp.tar.gz?dl=0 -C /content/Q-SAVI/data/datasets/zinc"
      ]
    },
    {
      "cell_type": "code",
      "source": [
        "%cd /content/Q-SAVI/\n",
        "\n",
        "# install packages not already available in Colab environment\n",
        "!pip install dm-haiku\n",
        "!pip install -q gwpy"
      ],
      "metadata": {
        "colab": {
          "base_uri": "https://localhost:8080/"
        },
        "id": "2fBSYT-1V8wJ",
        "outputId": "5dc7f1e4-e38a-426d-e513-102465194700"
      },
      "execution_count": null,
      "outputs": [
        {
          "output_type": "stream",
          "name": "stdout",
          "text": [
            "/content/Q-SAVI\n",
            "Collecting dm-haiku\n",
            "  Downloading dm_haiku-0.0.9-py3-none-any.whl (352 kB)\n",
            "\u001b[2K     \u001b[90m━━━━━━━━━━━━━━━━━━━━━━━━━━━━━━━━━━━━━━━\u001b[0m \u001b[32m352.1/352.1 kB\u001b[0m \u001b[31m7.8 MB/s\u001b[0m eta \u001b[36m0:00:00\u001b[0m\n",
            "\u001b[?25hRequirement already satisfied: absl-py>=0.7.1 in /usr/local/lib/python3.10/dist-packages (from dm-haiku) (1.4.0)\n",
            "Collecting jmp>=0.0.2 (from dm-haiku)\n",
            "  Downloading jmp-0.0.4-py3-none-any.whl (18 kB)\n",
            "Requirement already satisfied: numpy>=1.18.0 in /usr/local/lib/python3.10/dist-packages (from dm-haiku) (1.22.4)\n",
            "Requirement already satisfied: tabulate>=0.8.9 in /usr/local/lib/python3.10/dist-packages (from dm-haiku) (0.8.10)\n",
            "Installing collected packages: jmp, dm-haiku\n",
            "Successfully installed dm-haiku-0.0.9 jmp-0.0.4\n",
            "\u001b[2K     \u001b[90m━━━━━━━━━━━━━━━━━━━━━━━━━━━━━━━━━━━━━━━━\u001b[0m \u001b[32m1.4/1.4 MB\u001b[0m \u001b[31m20.4 MB/s\u001b[0m eta \u001b[36m0:00:00\u001b[0m\n",
            "\u001b[2K     \u001b[90m━━━━━━━━━━━━━━━━━━━━━━━━━━━━━━━━━━━━━━━━\u001b[0m \u001b[32m45.4/45.4 kB\u001b[0m \u001b[31m5.8 MB/s\u001b[0m eta \u001b[36m0:00:00\u001b[0m\n",
            "\u001b[2K     \u001b[90m━━━━━━━━━━━━━━━━━━━━━━━━━━━━━━━━━━━━━━━━\u001b[0m \u001b[32m51.0/51.0 kB\u001b[0m \u001b[31m7.2 MB/s\u001b[0m eta \u001b[36m0:00:00\u001b[0m\n",
            "\u001b[?25h  Preparing metadata (setup.py) ... \u001b[?25l\u001b[?25hdone\n",
            "\u001b[2K     \u001b[90m━━━━━━━━━━━━━━━━━━━━━━━━━━━━━━━━━━━━━━━━\u001b[0m \u001b[32m4.3/4.3 MB\u001b[0m \u001b[31m46.5 MB/s\u001b[0m eta \u001b[36m0:00:00\u001b[0m\n",
            "\u001b[?25h  Building wheel for ligo-segments (setup.py) ... \u001b[?25l\u001b[?25hdone\n"
          ]
        }
      ]
    },
    {
      "cell_type": "markdown",
      "source": [
        "## Model Training"
      ],
      "metadata": {
        "id": "87wx3XIsD5-r"
      }
    },
    {
      "cell_type": "code",
      "source": [
        "import os\n",
        "import argparse\n",
        "import json\n",
        "import pandas as pd\n",
        "import numpy as np\n",
        "\n",
        "from sklearn.metrics import roc_auc_score, brier_score_loss\n",
        "\n",
        "from qsavi.qsavi import QSAVI\n",
        "from qsavi.config import add_qsavi_args, arg_map"
      ],
      "metadata": {
        "colab": {
          "base_uri": "https://localhost:8080/"
        },
        "id": "BlVaa7Nv2wel",
        "outputId": "c7634634-0f7d-49e8-f507-699e7807414e"
      },
      "execution_count": null,
      "outputs": [
        {
          "output_type": "stream",
          "name": "stdout",
          "text": [
            "WARNING: TensorFlow is set to only use CPU.\n",
            "Num GPUs Available (TF):  1\n",
            "JAX is using gpu\n",
            "JAX devices: [gpu(id=0)]\n"
          ]
        }
      ]
    },
    {
      "cell_type": "code",
      "source": [
        "# specify the hyperparameters with the lowest validation set NLL\n",
        "# obtained from running qsavi_hyper_search.py\n",
        "\n",
        "best_hyperparams = {\n",
        "    (\"spectral_split\"): {\n",
        "        \"learning_rate\": 1e-4, \"num_layers\": 2, \"embed_dim\": 32,\n",
        "        \"prior_cov\": 100.0,  \"n_context_points\": 16,\n",
        "        },\n",
        "    (\"mw_split\"): {\n",
        "        \"learning_rate\": 1e-4, \"num_layers\": 4, \"embed_dim\": 32,\n",
        "        \"prior_cov\": 100.0,  \"n_context_points\": 16,\n",
        "        },\n",
        "    (\"scaffold_split\"): {\n",
        "        \"learning_rate\": 1e-4, \"num_layers\": 6, \"embed_dim\": 64,\n",
        "        \"prior_cov\": 10.0,  \"n_context_points\": 16,\n",
        "        },\n",
        "    (\"random_split\"): {\n",
        "        \"learning_rate\": 1e-4, \"num_layers\": 4, \"embed_dim\": 32,\n",
        "        \"prior_cov\": 100.0,  \"n_context_points\": 16,\n",
        "        },\n",
        "}"
      ],
      "metadata": {
        "id": "l2V3dXZJ21X7"
      },
      "execution_count": null,
      "outputs": []
    },
    {
      "cell_type": "code",
      "source": [
        "def run_qsavi(split):\n",
        "  \"\"\"\n",
        "  Run Q-SAVI algorithm for the hyperparameter combination with\n",
        "  the lowest validation set NLL with 10 different seeds, using\n",
        "  the specified data split and pre-processed ECFPs.\n",
        "\n",
        "  Args:\n",
        "    split: data split to train on (\n",
        "      \"spectral_split\", \"mw_split\",\n",
        "      \"scaffold_split\", \"random_split\")\n",
        "\n",
        "  Returns:\n",
        "    list of 10 dicts of test set predictions\n",
        "  \"\"\"\n",
        "\n",
        "  parser = argparse.ArgumentParser(description='Q-SAVI Command Line Interface')\n",
        "  parser.add_argument('-f')  # extra argument needed to get argparser to work in colab\n",
        "  add_qsavi_args(parser)\n",
        "  kwargs = parser.parse_args()\n",
        "\n",
        "\n",
        "  print(f\"Using best hyperparameters for {split}:\")\n",
        "  hypers = best_hyperparams[split]\n",
        "  for k, v in hypers.items():\n",
        "      print(\"\\t-\", k, \":\", v)\n",
        "\n",
        "  kwargs.split = split\n",
        "  kwargs.featurization = \"ec_bit_fp\"\n",
        "  kwargs.learning_rate = hypers[\"learning_rate\"]\n",
        "  kwargs.num_layers = hypers[\"num_layers\"]\n",
        "  kwargs.embed_dim = hypers[\"embed_dim\"]\n",
        "  kwargs.prior_cov = hypers[\"prior_cov\"]\n",
        "  kwargs.n_context_points = hypers[\"n_context_points\"]\n",
        "  kwargs.datadir = \"/content/Q-SAVI/data/datasets\"\n",
        "\n",
        "  # rerun Q-SAVI with 10 different random seeds\n",
        "  qsavi_results = []\n",
        "\n",
        "  for i in range(10):\n",
        "\n",
        "    kwargs.seed = i\n",
        "\n",
        "    print(\n",
        "        \"\\n\\nFull input arguments:\",\n",
        "        json.dumps(vars(kwargs), indent=4, separators=(\",\", \":\")),\n",
        "        \"\\n\\n\",\n",
        "    )\n",
        "\n",
        "    qsavi = QSAVI(kwargs)\n",
        "    val_metrics, test_metrics = qsavi.train()\n",
        "\n",
        "    qsavi_results.append({\"split\": split, **test_metrics})\n",
        "\n",
        "  return qsavi_results"
      ],
      "metadata": {
        "id": "K7H5ayBoW9PC"
      },
      "execution_count": null,
      "outputs": []
    },
    {
      "cell_type": "code",
      "source": [
        "%%capture\n",
        "\n",
        "# this takes around 25 minutes for all spits,\n",
        "# remove the %%capture to see progress logs\n",
        "\n",
        "results = []\n",
        "\n",
        "for split in [\"spectral_split\", \"mw_split\", \"scaffold_split\", \"random_split\"]:\n",
        "  results.extend(run_qsavi(split))"
      ],
      "metadata": {
        "id": "_xZS3gv1XsT6"
      },
      "execution_count": null,
      "outputs": []
    },
    {
      "cell_type": "markdown",
      "source": [
        "## Model Evaluation"
      ],
      "metadata": {
        "id": "F_gMMpiuD-3F"
      }
    },
    {
      "cell_type": "code",
      "source": [
        "results = pd.DataFrame(results)\n",
        "results[\"auc_roc\"] = results.apply(lambda x: roc_auc_score(x[\"labels\"], x[\"preds\"]), axis=1)\n",
        "results[\"brier\"] = results.apply(lambda x: brier_score_loss(x[\"labels\"], x[\"preds\"]), axis=1)"
      ],
      "metadata": {
        "id": "A0cW3j9AfGEI"
      },
      "execution_count": null,
      "outputs": []
    },
    {
      "cell_type": "code",
      "source": [
        "pd.options.display.float_format = '{:.3f}'.format\n",
        "\n",
        "results.groupby(\"split\")[[\"auc_roc\", \"brier\"]].agg(\n",
        "    [\"mean\", lambda x: np.std(x)/np.sqrt(len(x))]\n",
        "    ).rename(columns={\"<lambda_0>\": \"standard error\"})"
      ],
      "metadata": {
        "colab": {
          "base_uri": "https://localhost:8080/",
          "height": 238
        },
        "id": "5nj9a1dje_xq",
        "outputId": "97a725c4-31d1-4299-81d0-e42789ea71e8"
      },
      "execution_count": null,
      "outputs": [
        {
          "output_type": "execute_result",
          "data": {
            "text/plain": [
              "               auc_roc                brier               \n",
              "                  mean standard error  mean standard error\n",
              "split                                                     \n",
              "mw_split         0.650          0.002 0.047          0.000\n",
              "random_split     0.708          0.001 0.088          0.000\n",
              "scaffold_split   0.657          0.004 0.102          0.000\n",
              "spectral_split   0.606          0.003 0.130          0.000"
            ],
            "text/html": [
              "\n",
              "\n",
              "  <div id=\"df-fc5bb05a-5e57-4ec3-bccb-0c97c3a4026a\">\n",
              "    <div class=\"colab-df-container\">\n",
              "      <div>\n",
              "<style scoped>\n",
              "    .dataframe tbody tr th:only-of-type {\n",
              "        vertical-align: middle;\n",
              "    }\n",
              "\n",
              "    .dataframe tbody tr th {\n",
              "        vertical-align: top;\n",
              "    }\n",
              "\n",
              "    .dataframe thead tr th {\n",
              "        text-align: left;\n",
              "    }\n",
              "\n",
              "    .dataframe thead tr:last-of-type th {\n",
              "        text-align: right;\n",
              "    }\n",
              "</style>\n",
              "<table border=\"1\" class=\"dataframe\">\n",
              "  <thead>\n",
              "    <tr>\n",
              "      <th></th>\n",
              "      <th colspan=\"2\" halign=\"left\">auc_roc</th>\n",
              "      <th colspan=\"2\" halign=\"left\">brier</th>\n",
              "    </tr>\n",
              "    <tr>\n",
              "      <th></th>\n",
              "      <th>mean</th>\n",
              "      <th>standard error</th>\n",
              "      <th>mean</th>\n",
              "      <th>standard error</th>\n",
              "    </tr>\n",
              "    <tr>\n",
              "      <th>split</th>\n",
              "      <th></th>\n",
              "      <th></th>\n",
              "      <th></th>\n",
              "      <th></th>\n",
              "    </tr>\n",
              "  </thead>\n",
              "  <tbody>\n",
              "    <tr>\n",
              "      <th>mw_split</th>\n",
              "      <td>0.650</td>\n",
              "      <td>0.002</td>\n",
              "      <td>0.047</td>\n",
              "      <td>0.000</td>\n",
              "    </tr>\n",
              "    <tr>\n",
              "      <th>random_split</th>\n",
              "      <td>0.708</td>\n",
              "      <td>0.001</td>\n",
              "      <td>0.088</td>\n",
              "      <td>0.000</td>\n",
              "    </tr>\n",
              "    <tr>\n",
              "      <th>scaffold_split</th>\n",
              "      <td>0.657</td>\n",
              "      <td>0.004</td>\n",
              "      <td>0.102</td>\n",
              "      <td>0.000</td>\n",
              "    </tr>\n",
              "    <tr>\n",
              "      <th>spectral_split</th>\n",
              "      <td>0.606</td>\n",
              "      <td>0.003</td>\n",
              "      <td>0.130</td>\n",
              "      <td>0.000</td>\n",
              "    </tr>\n",
              "  </tbody>\n",
              "</table>\n",
              "</div>\n",
              "      <button class=\"colab-df-convert\" onclick=\"convertToInteractive('df-fc5bb05a-5e57-4ec3-bccb-0c97c3a4026a')\"\n",
              "              title=\"Convert this dataframe to an interactive table.\"\n",
              "              style=\"display:none;\">\n",
              "\n",
              "  <svg xmlns=\"http://www.w3.org/2000/svg\" height=\"24px\"viewBox=\"0 0 24 24\"\n",
              "       width=\"24px\">\n",
              "    <path d=\"M0 0h24v24H0V0z\" fill=\"none\"/>\n",
              "    <path d=\"M18.56 5.44l.94 2.06.94-2.06 2.06-.94-2.06-.94-.94-2.06-.94 2.06-2.06.94zm-11 1L8.5 8.5l.94-2.06 2.06-.94-2.06-.94L8.5 2.5l-.94 2.06-2.06.94zm10 10l.94 2.06.94-2.06 2.06-.94-2.06-.94-.94-2.06-.94 2.06-2.06.94z\"/><path d=\"M17.41 7.96l-1.37-1.37c-.4-.4-.92-.59-1.43-.59-.52 0-1.04.2-1.43.59L10.3 9.45l-7.72 7.72c-.78.78-.78 2.05 0 2.83L4 21.41c.39.39.9.59 1.41.59.51 0 1.02-.2 1.41-.59l7.78-7.78 2.81-2.81c.8-.78.8-2.07 0-2.86zM5.41 20L4 18.59l7.72-7.72 1.47 1.35L5.41 20z\"/>\n",
              "  </svg>\n",
              "      </button>\n",
              "\n",
              "\n",
              "\n",
              "    <div id=\"df-d7fddef2-b453-4cac-95be-8d85a1a0e404\">\n",
              "      <button class=\"colab-df-quickchart\" onclick=\"quickchart('df-d7fddef2-b453-4cac-95be-8d85a1a0e404')\"\n",
              "              title=\"Suggest charts.\"\n",
              "              style=\"display:none;\">\n",
              "\n",
              "<svg xmlns=\"http://www.w3.org/2000/svg\" height=\"24px\"viewBox=\"0 0 24 24\"\n",
              "     width=\"24px\">\n",
              "    <g>\n",
              "        <path d=\"M19 3H5c-1.1 0-2 .9-2 2v14c0 1.1.9 2 2 2h14c1.1 0 2-.9 2-2V5c0-1.1-.9-2-2-2zM9 17H7v-7h2v7zm4 0h-2V7h2v10zm4 0h-2v-4h2v4z\"/>\n",
              "    </g>\n",
              "</svg>\n",
              "      </button>\n",
              "    </div>\n",
              "\n",
              "<style>\n",
              "  .colab-df-quickchart {\n",
              "    background-color: #E8F0FE;\n",
              "    border: none;\n",
              "    border-radius: 50%;\n",
              "    cursor: pointer;\n",
              "    display: none;\n",
              "    fill: #1967D2;\n",
              "    height: 32px;\n",
              "    padding: 0 0 0 0;\n",
              "    width: 32px;\n",
              "  }\n",
              "\n",
              "  .colab-df-quickchart:hover {\n",
              "    background-color: #E2EBFA;\n",
              "    box-shadow: 0px 1px 2px rgba(60, 64, 67, 0.3), 0px 1px 3px 1px rgba(60, 64, 67, 0.15);\n",
              "    fill: #174EA6;\n",
              "  }\n",
              "\n",
              "  [theme=dark] .colab-df-quickchart {\n",
              "    background-color: #3B4455;\n",
              "    fill: #D2E3FC;\n",
              "  }\n",
              "\n",
              "  [theme=dark] .colab-df-quickchart:hover {\n",
              "    background-color: #434B5C;\n",
              "    box-shadow: 0px 1px 3px 1px rgba(0, 0, 0, 0.15);\n",
              "    filter: drop-shadow(0px 1px 2px rgba(0, 0, 0, 0.3));\n",
              "    fill: #FFFFFF;\n",
              "  }\n",
              "</style>\n",
              "\n",
              "    <script>\n",
              "      async function quickchart(key) {\n",
              "        const containerElement = document.querySelector('#' + key);\n",
              "        const charts = await google.colab.kernel.invokeFunction(\n",
              "            'suggestCharts', [key], {});\n",
              "      }\n",
              "    </script>\n",
              "\n",
              "      <script>\n",
              "\n",
              "function displayQuickchartButton(domScope) {\n",
              "  let quickchartButtonEl =\n",
              "    domScope.querySelector('#df-d7fddef2-b453-4cac-95be-8d85a1a0e404 button.colab-df-quickchart');\n",
              "  quickchartButtonEl.style.display =\n",
              "    google.colab.kernel.accessAllowed ? 'block' : 'none';\n",
              "}\n",
              "\n",
              "        displayQuickchartButton(document);\n",
              "      </script>\n",
              "      <style>\n",
              "    .colab-df-container {\n",
              "      display:flex;\n",
              "      flex-wrap:wrap;\n",
              "      gap: 12px;\n",
              "    }\n",
              "\n",
              "    .colab-df-convert {\n",
              "      background-color: #E8F0FE;\n",
              "      border: none;\n",
              "      border-radius: 50%;\n",
              "      cursor: pointer;\n",
              "      display: none;\n",
              "      fill: #1967D2;\n",
              "      height: 32px;\n",
              "      padding: 0 0 0 0;\n",
              "      width: 32px;\n",
              "    }\n",
              "\n",
              "    .colab-df-convert:hover {\n",
              "      background-color: #E2EBFA;\n",
              "      box-shadow: 0px 1px 2px rgba(60, 64, 67, 0.3), 0px 1px 3px 1px rgba(60, 64, 67, 0.15);\n",
              "      fill: #174EA6;\n",
              "    }\n",
              "\n",
              "    [theme=dark] .colab-df-convert {\n",
              "      background-color: #3B4455;\n",
              "      fill: #D2E3FC;\n",
              "    }\n",
              "\n",
              "    [theme=dark] .colab-df-convert:hover {\n",
              "      background-color: #434B5C;\n",
              "      box-shadow: 0px 1px 3px 1px rgba(0, 0, 0, 0.15);\n",
              "      filter: drop-shadow(0px 1px 2px rgba(0, 0, 0, 0.3));\n",
              "      fill: #FFFFFF;\n",
              "    }\n",
              "  </style>\n",
              "\n",
              "      <script>\n",
              "        const buttonEl =\n",
              "          document.querySelector('#df-fc5bb05a-5e57-4ec3-bccb-0c97c3a4026a button.colab-df-convert');\n",
              "        buttonEl.style.display =\n",
              "          google.colab.kernel.accessAllowed ? 'block' : 'none';\n",
              "\n",
              "        async function convertToInteractive(key) {\n",
              "          const element = document.querySelector('#df-fc5bb05a-5e57-4ec3-bccb-0c97c3a4026a');\n",
              "          const dataTable =\n",
              "            await google.colab.kernel.invokeFunction('convertToInteractive',\n",
              "                                                     [key], {});\n",
              "          if (!dataTable) return;\n",
              "\n",
              "          const docLinkHtml = 'Like what you see? Visit the ' +\n",
              "            '<a target=\"_blank\" href=https://colab.research.google.com/notebooks/data_table.ipynb>data table notebook</a>'\n",
              "            + ' to learn more about interactive tables.';\n",
              "          element.innerHTML = '';\n",
              "          dataTable['output_type'] = 'display_data';\n",
              "          await google.colab.output.renderOutput(dataTable, element);\n",
              "          const docLink = document.createElement('div');\n",
              "          docLink.innerHTML = docLinkHtml;\n",
              "          element.appendChild(docLink);\n",
              "        }\n",
              "      </script>\n",
              "    </div>\n",
              "  </div>\n"
            ]
          },
          "metadata": {},
          "execution_count": 12
        }
      ]
    }
  ]
}